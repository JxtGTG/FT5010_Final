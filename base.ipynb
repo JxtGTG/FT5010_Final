version https://git-lfs.github.com/spec/v1
oid sha256:f650e84ccc0b1b2524b4642836fd60a2b633a4b75588646bdbe71d6422b4d780
size 137136496
